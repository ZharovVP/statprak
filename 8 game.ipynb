{
 "cells": [
  {
   "cell_type": "code",
   "execution_count": 10,
   "metadata": {},
   "outputs": [
    {
     "name": "stdout",
     "output_type": "stream",
     "text": [
      "What's your name?vik\n",
      "And your name?aa\n",
      "vik, do yo want to choose rock, paper or scissors?rock\n",
      "aa, do you want to choose rock, paper or scissors?scissors\n",
      "Congrats to vik\n"
     ]
    }
   ],
   "source": [
    "import sys\n",
    "\n",
    "\n",
    "\n",
    "user1 = input(\"What's your name?\")\n",
    "\n",
    "user2 = input(\"And your name?\")\n",
    "\n",
    "user1_answer = input(\"%s, do yo want to choose rock, paper or scissors?\" % user1)\n",
    "\n",
    "user2_answer = input(\"%s, do you want to choose rock, paper or scissors?\" % user2)\n",
    "\n",
    "\n",
    "\n",
    "def compare(u1, u2):\n",
    "\n",
    "    if u1 == u2:\n",
    "\n",
    "        print(\"tie!\")\n",
    "\n",
    "    elif u1 == 'rock':\n",
    "\n",
    "        if u2 == 'scissors':\n",
    "\n",
    "            return (\"Congrats to %s\" % user1)\n",
    "\n",
    "        else:\n",
    "\n",
    "            return(\"Paper wins!\")\n",
    "\n",
    "    elif u1 == 'scissors':\n",
    "\n",
    "        if u2 == 'paper':\n",
    "\n",
    "            return(\"Scissors win!\")\n",
    "\n",
    "        else:\n",
    "\n",
    "            return(\"Rock wins!\")\n",
    "\n",
    "    elif u1 == 'paper':\n",
    "\n",
    "        if u2 == 'rock':\n",
    "\n",
    "            return(\"Paper wins!\")\n",
    "\n",
    "        else:\n",
    "\n",
    "            return(\"Scissors win!\")\n",
    "\n",
    "    else:\n",
    "\n",
    "        return(\"Invalid input! You have not entered rock, paper or scissors, try again.\")\n",
    "\n",
    "        sys.exit()\n",
    "\n",
    "\n",
    "\n",
    "print(compare(user1_answer, user2_answer))"
   ]
  },
  {
   "cell_type": "code",
   "execution_count": null,
   "metadata": {},
   "outputs": [],
   "source": []
  }
 ],
 "metadata": {
  "kernelspec": {
   "display_name": "Python 3",
   "language": "python",
   "name": "python3"
  },
  "language_info": {
   "codemirror_mode": {
    "name": "ipython",
    "version": 3
   },
   "file_extension": ".py",
   "mimetype": "text/x-python",
   "name": "python",
   "nbconvert_exporter": "python",
   "pygments_lexer": "ipython3",
   "version": "3.7.1"
  }
 },
 "nbformat": 4,
 "nbformat_minor": 2
}
